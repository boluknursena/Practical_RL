{
 "cells": [
  {
   "cell_type": "markdown",
   "metadata": {},
   "source": [
    "#  FrozenLake\n",
    "Today you are going to learn how to survive walking over the (virtual) frozen lake through discrete optimization.\n",
    "\n",
    "<img src=\"http://vignette2.wikia.nocookie.net/riseoftheguardians/images/4/4c/Jack's_little_sister_on_the_ice.jpg/revision/latest?cb=20141218030206\" alt=\"a random image to attract attention\" style=\"width: 400px;\"/>\n"
   ]
  },
  {
   "cell_type": "code",
   "execution_count": 3,
   "metadata": {},
   "outputs": [
    {
     "name": "stderr",
     "output_type": "stream",
     "text": [
      "[2018-01-10 15:44:41,332] Making new env: FrozenLake-v0\n"
     ]
    }
   ],
   "source": [
    "import gym\n",
    "\n",
    "#create a single game instance\n",
    "env = gym.make(\"FrozenLake-v0\")\n",
    "\n",
    "#start new game\n",
    "env.reset();"
   ]
  },
  {
   "cell_type": "code",
   "execution_count": 4,
   "metadata": {},
   "outputs": [
    {
     "name": "stdout",
     "output_type": "stream",
     "text": [
      "\n",
      "\u001b[41mS\u001b[0mFFF\n",
      "FHFH\n",
      "FFFH\n",
      "HFFG\n"
     ]
    }
   ],
   "source": [
    "# display the game state\n",
    "env.render()"
   ]
  },
  {
   "cell_type": "markdown",
   "metadata": {},
   "source": [
    "### legend\n",
    "\n",
    "![img](https://cdn-images-1.medium.com/max/800/1*MCjDzR-wfMMkS0rPqXSmKw.png)"
   ]
  },
  {
   "cell_type": "markdown",
   "metadata": {},
   "source": [
    "### Gym interface\n",
    "\n",
    "The three main methods of an environment are\n",
    "* __reset()__ - reset environment to initial state, _return first observation_\n",
    "* __render()__ - show current environment state (a more colorful version :) )\n",
    "* __step(a)__ - commit action __a__ and return (new observation, reward, is done, info)\n",
    " * _new observation_ - an observation right after commiting the action __a__\n",
    " * _reward_ - a number representing your reward for commiting action __a__\n",
    " * _is done_ - True if the MDP has just finished, False if still in progress\n",
    " * _info_ - some auxilary stuff about what just happened. Ignore it for now"
   ]
  },
  {
   "cell_type": "code",
   "execution_count": 5,
   "metadata": {
    "scrolled": true
   },
   "outputs": [
    {
     "name": "stdout",
     "output_type": "stream",
     "text": [
      "initial observation code: 0\n",
      "printing observation:\n",
      "\n",
      "\u001b[41mS\u001b[0mFFF\n",
      "FHFH\n",
      "FFFH\n",
      "HFFG\n",
      "observations: Discrete(16) n= 16\n",
      "actions: Discrete(4) n= 4\n"
     ]
    }
   ],
   "source": [
    "print(\"initial observation code:\", env.reset())\n",
    "print('printing observation:')\n",
    "env.render()\n",
    "print(\"observations:\", env.observation_space, 'n=', env.observation_space.n)\n",
    "print(\"actions:\", env.action_space, 'n=', env.action_space.n)"
   ]
  },
  {
   "cell_type": "code",
   "execution_count": 6,
   "metadata": {},
   "outputs": [
    {
     "name": "stdout",
     "output_type": "stream",
     "text": [
      "taking action 2 (right)\n",
      "new observation code: 0\n",
      "reward: 0.0\n",
      "is game over?: False\n",
      "printing new state:\n",
      "  (Right)\n",
      "\u001b[41mS\u001b[0mFFF\n",
      "FHFH\n",
      "FFFH\n",
      "HFFG\n"
     ]
    }
   ],
   "source": [
    "print(\"taking action 2 (right)\")\n",
    "new_obs, reward, is_done, _ = env.step(2)\n",
    "print(\"new observation code:\", new_obs)\n",
    "print(\"reward:\", reward)\n",
    "print(\"is game over?:\", is_done)\n",
    "print(\"printing new state:\")\n",
    "env.render()"
   ]
  },
  {
   "cell_type": "code",
   "execution_count": 7,
   "metadata": {
    "collapsed": true
   },
   "outputs": [],
   "source": [
    "action_to_i = {\n",
    "    'left':0,\n",
    "    'down':1,\n",
    "    'right':2,\n",
    "    'up':3\n",
    "}"
   ]
  },
  {
   "cell_type": "markdown",
   "metadata": {},
   "source": [
    "### Play with it\n",
    "* Try walking 5 steps without falling to the (H)ole\n",
    " * Bonus quest - get to the (G)oal\n",
    "* Sometimes your actions will not be executed properly due to slipping over ice\n",
    "* If you fall, call __env.reset()__ to restart"
   ]
  },
  {
   "cell_type": "code",
   "execution_count": 8,
   "metadata": {},
   "outputs": [
    {
     "data": {
      "text/plain": [
       "0"
      ]
     },
     "execution_count": 8,
     "metadata": {},
     "output_type": "execute_result"
    }
   ],
   "source": [
    "env.reset()"
   ]
  },
  {
   "cell_type": "code",
   "execution_count": 65,
   "metadata": {},
   "outputs": [
    {
     "name": "stdout",
     "output_type": "stream",
     "text": [
      "  (Down)\n",
      "SFFF\n",
      "F\u001b[41mH\u001b[0mFH\n",
      "FFFH\n",
      "HFFG\n"
     ]
    }
   ],
   "source": [
    "env.step(action_to_i['down'])\n",
    "env.render()"
   ]
  },
  {
   "cell_type": "markdown",
   "metadata": {},
   "source": [
    "### Baseline: random search (2 points)"
   ]
  },
  {
   "cell_type": "markdown",
   "metadata": {},
   "source": [
    "### Policy\n",
    "\n",
    "* The environment has a 4x4 grid of states (16 total), they are indexed from 0 to 15\n",
    "* From each states there are 4 actions (left,down,right,up), indexed from 0 to 3\n",
    "\n",
    "We need to define agent's policy of picking actions given states. Since we have only 16 disttinct states and 4 actions, we can just store the action for each state in an array.\n",
    "\n",
    "This basically means that any array of 16 integers from 0 to 3 makes a policy."
   ]
  },
  {
   "cell_type": "code",
   "execution_count": 51,
   "metadata": {
    "collapsed": true
   },
   "outputs": [],
   "source": [
    "import numpy as np\n",
    "n_states = env.observation_space.n\n",
    "n_actions = env.action_space.n\n",
    "def get_random_policy():\n",
    "    \"\"\"\n",
    "    Build a numpy array representing agent policy.\n",
    "    This array must have one element per each of 16 environment states.\n",
    "    Element must be an integer from 0 to 3, representing action\n",
    "    to take from that state.\n",
    "    \"\"\"\n",
    "    return np.random.randint(n_actions, size=n_states)"
   ]
  },
  {
   "cell_type": "code",
   "execution_count": 52,
   "metadata": {},
   "outputs": [
    {
     "data": {
      "text/plain": [
       "array([1, 0, 1, 0, 1, 1, 3, 0, 3, 0, 0, 0, 0, 0, 3, 0])"
      ]
     },
     "execution_count": 52,
     "metadata": {},
     "output_type": "execute_result"
    }
   ],
   "source": [
    "np.random.randint(n_actions, size=n_states)"
   ]
  },
  {
   "cell_type": "code",
   "execution_count": 53,
   "metadata": {},
   "outputs": [
    {
     "name": "stdout",
     "output_type": "stream",
     "text": [
      "Action frequencies over 10^4 samples: [ 0.25014375  0.25130625  0.2495375   0.2490125 ]\n",
      "Seems fine!\n"
     ]
    }
   ],
   "source": [
    "np.random.seed(1234)\n",
    "policies = [get_random_policy() for i in range(10**4)]\n",
    "assert all([len(p) == n_states for p in policies]), 'policy length should always be 16'\n",
    "assert np.min(policies) == 0, 'minimal action id should be 0'\n",
    "assert np.max(policies) == n_actions-1, 'maximal action id should match n_actions-1'\n",
    "action_probas = np.unique(policies, return_counts=True)[-1] /10**4. /n_states\n",
    "print(\"Action frequencies over 10^4 samples:\",action_probas)\n",
    "assert np.allclose(action_probas, [1. / n_actions] * n_actions, atol=0.05), \"The policies aren't uniformly random (maybe it's just an extremely bad luck)\"\n",
    "print(\"Seems fine!\")"
   ]
  },
  {
   "cell_type": "markdown",
   "metadata": {},
   "source": [
    "### Let's evaluate!\n",
    "* Implement a simple function that runs one game and returns the total reward"
   ]
  },
  {
   "cell_type": "code",
   "execution_count": 113,
   "metadata": {
    "collapsed": true
   },
   "outputs": [],
   "source": [
    "def sample_reward(env, policy, t_max=100):\n",
    "    \"\"\"\n",
    "    Interact with an environment, return sum of all rewards.\n",
    "    If game doesn't end on t_max (e.g. agent walks into a wall), \n",
    "    force end the game and return whatever reward you got so far.\n",
    "    Tip: see signature of env.step(...) method above.\n",
    "    \"\"\"\n",
    "    s = env.reset()\n",
    "    total_reward = 0\n",
    "    \n",
    "    for t in range(t_max):\n",
    "        action = policy[s]\n",
    "        next_s, reward, done, _ = env.step(action)\n",
    "        total_reward += reward\n",
    "        s = next_s\n",
    "        \n",
    "        if done:\n",
    "            break\n",
    "\n",
    "    return total_reward"
   ]
  },
  {
   "cell_type": "code",
   "execution_count": 114,
   "metadata": {},
   "outputs": [
    {
     "name": "stdout",
     "output_type": "stream",
     "text": [
      "generating 10^3 sessions...\n",
      "Looks good!\n"
     ]
    }
   ],
   "source": [
    "print(\"generating 10^3 sessions...\")\n",
    "rewards = [sample_reward(env,get_random_policy()) for _ in range(10**3)]\n",
    "assert all([type(r) in (int, float) for r in rewards]), 'sample_reward must return a single number'\n",
    "assert all([0 <= r <= 1 for r in rewards]), 'total rewards should be between 0 and 1 for frozenlake (if solving taxi, delete this line)'\n",
    "print(\"Looks good!\")"
   ]
  },
  {
   "cell_type": "code",
   "execution_count": 136,
   "metadata": {},
   "outputs": [],
   "source": [
    "def evaluate(env, policy, n_times=100):\n",
    "    \"\"\"Run several evaluations and average the score the policy gets.\"\"\"\n",
    "\n",
    "    rewards = [sample_reward(env, policy) for _ in range(n_times)]\n",
    "    \n",
    "    return float(np.mean(rewards))\n",
    "        "
   ]
  },
  {
   "cell_type": "code",
   "execution_count": 171,
   "metadata": {},
   "outputs": [
    {
     "name": "stdout",
     "output_type": "stream",
     "text": [
      "random policy:\n"
     ]
    },
    {
     "ename": "AssertionError",
     "evalue": "this function only works with frozenlake 4x4",
     "output_type": "error",
     "traceback": [
      "\u001b[0;31m---------------------------------------------------------------------------\u001b[0m",
      "\u001b[0;31mAssertionError\u001b[0m                            Traceback (most recent call last)",
      "\u001b[0;32m<ipython-input-171-bbaba670f4bf>\u001b[0m in \u001b[0;36m<module>\u001b[0;34m()\u001b[0m\n\u001b[1;32m     15\u001b[0m \u001b[0;34m\u001b[0m\u001b[0m\n\u001b[1;32m     16\u001b[0m \u001b[0mprint\u001b[0m\u001b[0;34m(\u001b[0m\u001b[0;34m\"random policy:\"\u001b[0m\u001b[0;34m)\u001b[0m\u001b[0;34m\u001b[0m\u001b[0m\n\u001b[0;32m---> 17\u001b[0;31m \u001b[0mprint_policy\u001b[0m\u001b[0;34m(\u001b[0m\u001b[0mget_random_policy\u001b[0m\u001b[0;34m(\u001b[0m\u001b[0;34m)\u001b[0m\u001b[0;34m)\u001b[0m\u001b[0;34m\u001b[0m\u001b[0m\n\u001b[0m",
      "\u001b[0;32m<ipython-input-171-bbaba670f4bf>\u001b[0m in \u001b[0;36mprint_policy\u001b[0;34m(policy)\u001b[0m\n\u001b[1;32m      2\u001b[0m     \u001b[0;34m\"\"\"a function that displays a policy in a human-readable way.\"\"\"\u001b[0m\u001b[0;34m\u001b[0m\u001b[0m\n\u001b[1;32m      3\u001b[0m     \u001b[0mlake\u001b[0m \u001b[0;34m=\u001b[0m \u001b[0;34m\"SFFFFHFHFFFHHFFG\"\u001b[0m\u001b[0;34m\u001b[0m\u001b[0m\n\u001b[0;32m----> 4\u001b[0;31m     \u001b[0;32massert\u001b[0m \u001b[0menv\u001b[0m\u001b[0;34m.\u001b[0m\u001b[0mspec\u001b[0m\u001b[0;34m.\u001b[0m\u001b[0mid\u001b[0m \u001b[0;34m==\u001b[0m \u001b[0;34m\"FrozenLake-v0\"\u001b[0m\u001b[0;34m,\u001b[0m \u001b[0;34m\"this function only works with frozenlake 4x4\"\u001b[0m\u001b[0;34m\u001b[0m\u001b[0m\n\u001b[0m\u001b[1;32m      5\u001b[0m \u001b[0;34m\u001b[0m\u001b[0m\n\u001b[1;32m      6\u001b[0m \u001b[0;34m\u001b[0m\u001b[0m\n",
      "\u001b[0;31mAssertionError\u001b[0m: this function only works with frozenlake 4x4"
     ]
    }
   ],
   "source": [
    "def print_policy(policy):\n",
    "    \"\"\"a function that displays a policy in a human-readable way.\"\"\"\n",
    "    lake = \"SFFFFHFHFFFHHFFG\"\n",
    "    assert env.spec.id == \"FrozenLake-v0\", \"this function only works with frozenlake 4x4\"\n",
    "\n",
    "    \n",
    "    # where to move from each tile (we're a bit unsure if this is accurate)\n",
    "    arrows = ['>^v<'[a] for a in policy]\n",
    "    \n",
    "    #draw arrows above S and F only\n",
    "    signs = [arrow if tile in \"SF\" else tile for arrow, tile in zip(arrows, lake)]\n",
    "    \n",
    "    for i in range(0, 16, 4):\n",
    "        print(' '.join(signs[i:i+4]))\n",
    "\n",
    "print(\"random policy:\")\n",
    "print_policy(get_random_policy())"
   ]
  },
  {
   "cell_type": "markdown",
   "metadata": {},
   "source": [
    "### Main loop"
   ]
  },
  {
   "cell_type": "code",
   "execution_count": 122,
   "metadata": {
    "scrolled": true
   },
   "outputs": [
    {
     "name": "stderr",
     "output_type": "stream",
     "text": [
      "  0%|          | 20/10000 [00:00<01:52, 89.06it/s]"
     ]
    },
    {
     "name": "stdout",
     "output_type": "stream",
     "text": [
      "New best score: 0.0\n",
      "Best policy:\n",
      "^ < < <\n",
      "^ H < H\n",
      "< ^ < H\n",
      "H v v G\n",
      "New best score: 0.03\n",
      "Best policy:\n",
      "< < < ^\n",
      "v H v H\n",
      "^ < > H\n",
      "H ^ ^ G\n",
      "New best score: 0.06\n",
      "Best policy:\n",
      "v v < <\n",
      "> H ^ H\n",
      "^ > v H\n",
      "H > > G\n",
      "New best score: 0.09\n",
      "Best policy:\n",
      "< > > v\n",
      "v H ^ H\n",
      "^ > < H\n",
      "H > ^ G\n"
     ]
    },
    {
     "name": "stderr",
     "output_type": "stream",
     "text": [
      "  0%|          | 36/10000 [00:00<02:03, 80.72it/s]"
     ]
    },
    {
     "name": "stdout",
     "output_type": "stream",
     "text": [
      "New best score: 0.13\n",
      "Best policy:\n",
      "> ^ > ^\n",
      "< H < H\n",
      "^ v ^ H\n",
      "H ^ v G\n"
     ]
    },
    {
     "name": "stderr",
     "output_type": "stream",
     "text": [
      "  1%|▏         | 149/10000 [00:01<01:37, 100.80it/s]"
     ]
    },
    {
     "name": "stdout",
     "output_type": "stream",
     "text": [
      "New best score: 0.18\n",
      "Best policy:\n",
      "^ ^ v v\n",
      "v H < H\n",
      "> < < H\n",
      "H > v G\n"
     ]
    },
    {
     "name": "stderr",
     "output_type": "stream",
     "text": [
      "  2%|▏         | 213/10000 [00:02<01:51, 87.82it/s] "
     ]
    },
    {
     "name": "stdout",
     "output_type": "stream",
     "text": [
      "New best score: 0.19\n",
      "Best policy:\n",
      "< v > <\n",
      "< H ^ H\n",
      "^ v ^ H\n",
      "H v v G\n"
     ]
    },
    {
     "name": "stderr",
     "output_type": "stream",
     "text": [
      "  5%|▍         | 473/10000 [00:05<01:51, 85.30it/s] "
     ]
    },
    {
     "name": "stdout",
     "output_type": "stream",
     "text": [
      "New best score: 0.3\n",
      "Best policy:\n",
      "< ^ < >\n",
      "< H > H\n",
      "^ v < H\n",
      "H ^ ^ G\n"
     ]
    },
    {
     "name": "stderr",
     "output_type": "stream",
     "text": [
      " 14%|█▍        | 1444/10000 [00:15<01:40, 84.75it/s] "
     ]
    },
    {
     "name": "stdout",
     "output_type": "stream",
     "text": [
      "New best score: 0.39\n",
      "Best policy:\n",
      "< v v >\n",
      "< H v H\n",
      "^ > < H\n",
      "H > > G\n"
     ]
    },
    {
     "name": "stderr",
     "output_type": "stream",
     "text": [
      " 32%|███▏      | 3150/10000 [00:34<01:19, 86.06it/s] "
     ]
    },
    {
     "name": "stdout",
     "output_type": "stream",
     "text": [
      "New best score: 0.43\n",
      "Best policy:\n",
      "< < > >\n",
      "< H > H\n",
      "^ v v H\n",
      "H > ^ G\n"
     ]
    },
    {
     "name": "stderr",
     "output_type": "stream",
     "text": [
      " 35%|███▍      | 3490/10000 [00:38<01:14, 87.82it/s] "
     ]
    },
    {
     "name": "stdout",
     "output_type": "stream",
     "text": [
      "New best score: 0.48\n",
      "Best policy:\n",
      "< ^ ^ ^\n",
      "< H v H\n",
      "^ v < H\n",
      "H > ^ G\n"
     ]
    },
    {
     "name": "stderr",
     "output_type": "stream",
     "text": [
      "100%|██████████| 10000/10000 [01:48<00:00, 92.15it/s]\n"
     ]
    }
   ],
   "source": [
    "best_policy = None\n",
    "best_score = -float('inf')\n",
    "\n",
    "from tqdm import tqdm\n",
    "for i in tqdm(range(10000)):\n",
    "    policy = get_random_policy()\n",
    "    score = evaluate(policy)\n",
    "    if score > best_score:\n",
    "        best_score = score\n",
    "        best_policy = policy\n",
    "        print(\"New best score:\", score)\n",
    "        print(\"Best policy:\")\n",
    "        print_policy(best_policy)"
   ]
  },
  {
   "cell_type": "markdown",
   "metadata": {},
   "source": [
    "# Part II Genetic algorithm (4 points)\n",
    "\n",
    "The next task is to devise some more efficient way to perform policy search.\n",
    "We'll do that with a bare-bones evolutionary algorithm.\n",
    "[unless you're feeling masochistic and wish to do something entirely different which is bonus points if it works]"
   ]
  },
  {
   "cell_type": "code",
   "execution_count": 131,
   "metadata": {
    "collapsed": true
   },
   "outputs": [],
   "source": [
    "def crossover(policy1, policy2, p=0.5):\n",
    "    \"\"\"\n",
    "    for each state, with probability p take action from policy1, else policy2\n",
    "    \"\"\"\n",
    "#     if np.random.random() > p:\n",
    "#         return [policy1[i] for i in range(len(policy1))]\n",
    "#     else:\n",
    "#         return [policy2[i] for i in range(len(policy2))]\n",
    "    return [policy1[i] if np.random.random() <= p else policy2[i] for i in range(len(policy1))]"
   ]
  },
  {
   "cell_type": "code",
   "execution_count": 132,
   "metadata": {
    "collapsed": true
   },
   "outputs": [],
   "source": [
    "def mutation(policy, p=0.1):\n",
    "    \"\"\"\n",
    "    for each state, with probability p replace action with random action\n",
    "    Tip: mutation can be written as crossover with random policy\n",
    "    \"\"\" \n",
    "    return crossover(get_random_policy(), policy, p)"
   ]
  },
  {
   "cell_type": "code",
   "execution_count": 133,
   "metadata": {},
   "outputs": [
    {
     "name": "stdout",
     "output_type": "stream",
     "text": [
      "Seems fine!\n"
     ]
    }
   ],
   "source": [
    "np.random.seed(1234)\n",
    "policies = [crossover(get_random_policy(), get_random_policy()) \n",
    "            for i in range(10**4)]\n",
    "\n",
    "assert all([len(p) == n_states for p in policies]), 'policy length should always be 16'\n",
    "assert np.min(policies) == 0, 'minimal action id should be 0'\n",
    "assert np.max(policies) == n_actions-1, 'maximal action id should be n_actions-1'\n",
    "\n",
    "assert any([np.mean(crossover(np.zeros(n_states), np.ones(n_states))) not in (0, 1)\n",
    "               for _ in range(100)]), \"Make sure your crossover changes each action independently\"\n",
    "print(\"Seems fine!\")"
   ]
  },
  {
   "cell_type": "code",
   "execution_count": 134,
   "metadata": {
    "collapsed": true
   },
   "outputs": [],
   "source": [
    "\n",
    "n_epochs = 30 #how many cycles to make\n",
    "pool_size = 200 #how many policies to maintain\n",
    "n_crossovers = 50 #how many crossovers to make on each step\n",
    "n_mutations = 50 #how many mutations to make on each tick\n"
   ]
  },
  {
   "cell_type": "code",
   "execution_count": 137,
   "metadata": {},
   "outputs": [
    {
     "name": "stdout",
     "output_type": "stream",
     "text": [
      "initializing...\n"
     ]
    }
   ],
   "source": [
    "print(\"initializing...\")\n",
    "# <spawn a list of pool_size random policies>\n",
    "pool = [get_random_policy() for _ in range(pool_size)]\n",
    "# <evaluate every policy in the pool, return list of scores>\n",
    "pool_scores = [evaluate(env, policy) for policy in pool]"
   ]
  },
  {
   "cell_type": "code",
   "execution_count": 138,
   "metadata": {
    "collapsed": true
   },
   "outputs": [],
   "source": [
    "assert type(pool) == type(pool_scores) == list\n",
    "assert len(pool) == len(pool_scores) == pool_size\n",
    "assert all([type(score) in (float, int) for score in pool_scores])"
   ]
  },
  {
   "cell_type": "code",
   "execution_count": 157,
   "metadata": {
    "scrolled": false
   },
   "outputs": [
    {
     "data": {
      "text/plain": [
       "[0, 0, 1, 0, 0, 3, 2, 2, 3, 1, 0, 3, 1, 2, 1, 0]"
      ]
     },
     "execution_count": 157,
     "metadata": {},
     "output_type": "execute_result"
    }
   ],
   "source": [
    "pool[np.random.randint(len(pool))]"
   ]
  },
  {
   "cell_type": "code",
   "execution_count": 158,
   "metadata": {
    "scrolled": true
   },
   "outputs": [
    {
     "data": {
      "text/plain": [
       "[[0, 3, 0, 2, 0, 2, 2, 0, 3, 1, 0, 0, 3, 2, 1, 0],\n",
       " [0, 3, 1, 1, 0, 2, 0, 0, 3, 1, 0, 3, 3, 2, 1, 0],\n",
       " [0, 1, 0, 0, 0, 0, 2, 3, 3, 1, 0, 3, 2, 2, 1, 1],\n",
       " [0, 1, 3, 2, 0, 2, 1, 1, 3, 1, 0, 0, 2, 2, 1, 2],\n",
       " [0, 3, 3, 0, 0, 1, 0, 2, 3, 1, 0, 0, 3, 2, 1, 1],\n",
       " [0, 1, 0, 1, 0, 2, 0, 0, 3, 1, 0, 3, 1, 2, 1, 1],\n",
       " [0, 1, 2, 1, 0, 0, 1, 0, 3, 1, 0, 2, 2, 2, 1, 2],\n",
       " [0, 2, 0, 2, 0, 0, 1, 2, 3, 1, 0, 3, 3, 2, 1, 1],\n",
       " [0, 2, 2, 2, 0, 1, 1, 2, 3, 1, 0, 0, 2, 2, 1, 1],\n",
       " [0, 1, 2, 2, 0, 3, 0, 0, 3, 1, 0, 0, 3, 2, 1, 0],\n",
       " [0, 2, 0, 3, 0, 2, 0, 0, 3, 1, 0, 1, 1, 2, 1, 2],\n",
       " [0, 3, 2, 0, 0, 2, 0, 0, 3, 1, 0, 0, 0, 2, 1, 0],\n",
       " [0, 3, 0, 3, 0, 1, 2, 3, 3, 1, 0, 3, 1, 2, 1, 3],\n",
       " [0, 3, 0, 0, 0, 2, 1, 3, 3, 1, 0, 2, 1, 2, 2, 1],\n",
       " [0, 2, 1, 3, 0, 2, 1, 3, 3, 1, 0, 1, 3, 2, 1, 2],\n",
       " [0, 1, 3, 0, 0, 2, 0, 3, 3, 1, 0, 0, 3, 2, 1, 0],\n",
       " [0, 1, 2, 2, 0, 3, 1, 2, 3, 1, 0, 2, 2, 2, 1, 3],\n",
       " [0, 2, 2, 2, 0, 2, 1, 0, 3, 1, 0, 1, 3, 2, 1, 1],\n",
       " [0, 1, 1, 2, 0, 3, 1, 0, 3, 1, 0, 2, 3, 2, 1, 1],\n",
       " [0, 3, 3, 0, 0, 1, 0, 0, 3, 1, 0, 2, 3, 2, 1, 1],\n",
       " [0, 3, 2, 3, 0, 3, 0, 0, 3, 1, 0, 1, 2, 2, 2, 3],\n",
       " [0, 2, 2, 1, 0, 2, 1, 3, 3, 1, 0, 0, 2, 2, 1, 1],\n",
       " [0, 0, 1, 0, 0, 3, 0, 0, 3, 1, 0, 2, 1, 2, 1, 3],\n",
       " [0, 1, 1, 2, 0, 2, 0, 2, 3, 1, 0, 2, 3, 2, 1, 2],\n",
       " [0, 0, 2, 1, 0, 2, 1, 2, 3, 1, 0, 2, 0, 2, 1, 3],\n",
       " [0, 1, 0, 2, 0, 3, 1, 0, 3, 1, 0, 3, 0, 2, 1, 1],\n",
       " [0, 3, 0, 1, 0, 0, 2, 0, 3, 1, 0, 0, 3, 2, 1, 1],\n",
       " [0, 3, 2, 1, 0, 1, 0, 0, 3, 1, 0, 0, 2, 2, 1, 1],\n",
       " [0, 3, 0, 0, 0, 0, 0, 0, 3, 1, 0, 0, 1, 2, 1, 0],\n",
       " [0, 1, 0, 1, 0, 3, 0, 2, 3, 1, 0, 2, 2, 2, 1, 1],\n",
       " [0, 1, 2, 2, 0, 2, 0, 0, 3, 1, 0, 3, 3, 2, 1, 1],\n",
       " [0, 1, 1, 1, 0, 2, 0, 0, 3, 1, 0, 2, 3, 2, 1, 1],\n",
       " [0, 1, 2, 3, 0, 0, 0, 1, 3, 1, 0, 3, 3, 2, 1, 1],\n",
       " [0, 1, 0, 0, 0, 1, 2, 3, 3, 1, 0, 2, 0, 2, 1, 1],\n",
       " [0, 3, 3, 2, 0, 3, 0, 2, 3, 1, 0, 3, 3, 2, 1, 1],\n",
       " [0, 3, 3, 1, 0, 3, 0, 3, 3, 1, 0, 2, 1, 2, 1, 1],\n",
       " [0, 1, 1, 2, 0, 3, 0, 3, 3, 1, 0, 0, 3, 2, 1, 2],\n",
       " [0, 1, 2, 2, 0, 1, 0, 2, 3, 1, 0, 1, 1, 2, 1, 0],\n",
       " [0, 1, 2, 2, 0, 3, 0, 1, 3, 1, 0, 3, 0, 2, 1, 2],\n",
       " [0, 3, 3, 0, 0, 3, 0, 3, 3, 1, 0, 0, 3, 2, 1, 1],\n",
       " [0, 3, 0, 0, 0, 1, 2, 3, 3, 1, 0, 0, 3, 2, 1, 3],\n",
       " [0, 3, 3, 2, 0, 1, 2, 3, 3, 1, 0, 1, 3, 2, 1, 0],\n",
       " [0, 2, 2, 3, 0, 2, 0, 2, 3, 1, 0, 0, 3, 2, 1, 0],\n",
       " [0, 2, 2, 3, 0, 2, 2, 0, 3, 1, 0, 3, 1, 2, 1, 3],\n",
       " [0, 1, 1, 0, 0, 3, 0, 2, 3, 1, 0, 2, 1, 2, 1, 1],\n",
       " [0, 1, 0, 3, 0, 1, 1, 0, 3, 1, 0, 3, 1, 2, 1, 1],\n",
       " [0, 3, 1, 0, 0, 1, 2, 3, 3, 1, 0, 2, 0, 2, 1, 1],\n",
       " [0, 2, 1, 3, 0, 2, 1, 0, 3, 1, 0, 3, 2, 2, 1, 0],\n",
       " [0, 2, 0, 2, 0, 3, 2, 1, 3, 1, 0, 1, 3, 2, 1, 0],\n",
       " [0, 3, 2, 2, 0, 3, 1, 0, 3, 1, 0, 3, 1, 2, 1, 0]]"
      ]
     },
     "execution_count": 158,
     "metadata": {},
     "output_type": "execute_result"
    }
   ],
   "source": [
    "[crossover(pool[np.random.randint(len(pool))], pool[np.random.randint(len(pool))], p=0.3) for _ in range(n_crossovers)]"
   ]
  },
  {
   "cell_type": "code",
   "execution_count": 155,
   "metadata": {
    "scrolled": true
   },
   "outputs": [
    {
     "name": "stdout",
     "output_type": "stream",
     "text": [
      "Epoch 0:\n",
      "best score: 0.23\n",
      "< v v <\n",
      "< H ^ H\n",
      "^ > > H\n",
      "H > > G\n",
      "Epoch 1:\n",
      "best score: 0.29\n",
      "< v v >\n",
      "< H v H\n",
      "^ v > H\n",
      "H v > G\n",
      "Epoch 2:\n",
      "best score: 0.33\n",
      "< v v >\n",
      "< H v H\n",
      "^ v > H\n",
      "H v > G\n",
      "Epoch 3:\n",
      "best score: 0.43\n",
      "< < < v\n",
      "< H v H\n",
      "^ v < H\n",
      "H v v G\n",
      "Epoch 4:\n",
      "best score: 0.46\n",
      "< v ^ v\n",
      "< H v H\n",
      "^ v < H\n",
      "H v v G\n",
      "Epoch 5:\n",
      "best score: 0.34\n",
      "< ^ v >\n",
      "< H v H\n",
      "^ v v H\n",
      "H v > G\n",
      "Epoch 6:\n",
      "best score: 0.4\n",
      "< > > ^\n",
      "< H < H\n",
      "^ > < H\n",
      "H > v G\n",
      "Epoch 7:\n",
      "best score: 0.37\n",
      "< < < v\n",
      "< H v H\n",
      "^ v < H\n",
      "H v v G\n",
      "Epoch 8:\n",
      "best score: 0.6\n",
      "< v > >\n",
      "< H v H\n",
      "^ v < H\n",
      "H > > G\n",
      "Epoch 9:\n",
      "best score: 0.6\n",
      "< v v >\n",
      "< H < H\n",
      "^ v < H\n",
      "H > > G\n",
      "Epoch 10:\n",
      "best score: 0.6\n",
      "< v > v\n",
      "< H v H\n",
      "^ v < H\n",
      "H > > G\n",
      "Epoch 11:\n",
      "best score: 0.72\n",
      "< v v <\n",
      "< H < H\n",
      "^ v < H\n",
      "H > v G\n",
      "Epoch 12:\n",
      "best score: 0.73\n",
      "< < < >\n",
      "< H v H\n",
      "^ v < H\n",
      "H > v G\n",
      "Epoch 13:\n",
      "best score: 0.75\n",
      "< v v v\n",
      "< H v H\n",
      "^ v < H\n",
      "H > v G\n",
      "Epoch 14:\n",
      "best score: 0.75\n",
      "< ^ > >\n",
      "< H v H\n",
      "^ v < H\n",
      "H > v G\n",
      "Epoch 15:\n",
      "best score: 0.78\n",
      "< v v <\n",
      "< H < H\n",
      "^ v < H\n",
      "H > v G\n",
      "Epoch 16:\n",
      "best score: 0.8\n",
      "< > ^ <\n",
      "< H < H\n",
      "^ v < H\n",
      "H > v G\n",
      "Epoch 17:\n",
      "best score: 0.77\n",
      "< v > <\n",
      "< H > H\n",
      "^ v < H\n",
      "H > v G\n",
      "Epoch 18:\n",
      "best score: 0.76\n",
      "< v > <\n",
      "< H > H\n",
      "^ v < H\n",
      "H > > G\n",
      "Epoch 19:\n",
      "best score: 0.78\n",
      "< v > ^\n",
      "< H < H\n",
      "^ v < H\n",
      "H > v G\n",
      "Epoch 20:\n",
      "best score: 0.82\n",
      "< ^ < <\n",
      "< H > H\n",
      "^ v < H\n",
      "H > v G\n",
      "Epoch 21:\n",
      "best score: 0.81\n",
      "< > < v\n",
      "< H < H\n",
      "^ v < H\n",
      "H > v G\n",
      "Epoch 22:\n",
      "best score: 0.81\n",
      "< ^ < <\n",
      "< H > H\n",
      "^ v < H\n",
      "H > v G\n",
      "Epoch 23:\n",
      "best score: 0.8\n",
      "< ^ < <\n",
      "< H < H\n",
      "^ v < H\n",
      "H > v G\n",
      "Epoch 24:\n",
      "best score: 0.82\n",
      "< ^ > ^\n",
      "< H < H\n",
      "^ v < H\n",
      "H > v G\n",
      "Epoch 25:\n",
      "best score: 0.82\n",
      "< ^ < v\n",
      "< H < H\n",
      "^ v < H\n",
      "H > v G\n",
      "Epoch 26:\n",
      "best score: 0.79\n",
      "< ^ < <\n",
      "< H < H\n",
      "^ v < H\n",
      "H > v G\n",
      "Epoch 27:\n",
      "best score: 0.82\n",
      "< v < <\n",
      "< H > H\n",
      "^ v < H\n",
      "H > v G\n",
      "Epoch 28:\n",
      "best score: 0.82\n",
      "< ^ < v\n",
      "< H > H\n",
      "^ v < H\n",
      "H > v G\n",
      "Epoch 29:\n",
      "best score: 0.83\n",
      "< ^ < >\n",
      "< H < H\n",
      "^ v < H\n",
      "H > v G\n"
     ]
    }
   ],
   "source": [
    "#main loop\n",
    "epoch_scores = []\n",
    "\n",
    "for epoch in range(n_epochs):\n",
    "    print(\"Epoch %s:\"%epoch)\n",
    "    \n",
    "    # <crossover random guys from pool, n_crossovers total>\n",
    "    crossovered = [crossover(pool[np.random.randint(len(pool))], pool[np.random.randint(len(pool))], p=0.3) for _ in range(n_crossovers)]\n",
    "    # <add several new policies at random, n_mutations total>\n",
    "    mutated = [mutation(crossed, p=0.3) for crossed in crossovered]\n",
    "    \n",
    "    assert type(crossovered) == type(mutated) == list\n",
    "    \n",
    "    #add new policies to the pool\n",
    "    # <add up old population with crossovers/mutations>\n",
    "    pool = pool + crossovered + mutated\n",
    "    # <evaluate all policies again>\n",
    "    pool_scores = [evaluate(env, policy) for policy in pool]\n",
    "    \n",
    "    #select pool_size best policies\n",
    "    selected_indices = np.argsort(pool_scores)[-pool_size:]\n",
    "    pool = [pool[i] for i in selected_indices]\n",
    "    pool_scores = [pool_scores[i] for i in selected_indices]\n",
    "\n",
    "    #print the best policy so far (last in ascending score order)\n",
    "    print(\"best score:\", pool_scores[-1])\n",
    "    epoch_scores.append(pool_scores[-1])\n",
    "    print_policy(pool[-1])"
   ]
  },
  {
   "cell_type": "code",
   "execution_count": 156,
   "metadata": {},
   "outputs": [
    {
     "data": {
      "image/png": "[encoded data removed]",
      "text/plain": [
       "<matplotlib.figure.Figure at 0x7f24b85186d8>"
      ]
     },
     "metadata": {},
     "output_type": "display_data"
    }
   ],
   "source": [
    "import matplotlib.pyplot as plt\n",
    "%matplotlib inline\n",
    "\n",
    "plt.plot(epoch_scores, color='k')\n",
    "plt.ylabel('Best score')\n",
    "plt.xlabel('Epochs')\n",
    "plt.show()"
   ]
  },
  {
   "cell_type": "markdown",
   "metadata": {},
   "source": [
    "## moar\n",
    "\n",
    "The parameters of the genetic algorithm aren't optimal, try to find something better. (size, crossovers and mutations)\n",
    "\n",
    "Try alternative crossover and mutation strategies\n",
    "* prioritize crossover for higher-scorers?\n",
    "* try to select a more diverse pool, not just best scorers?\n",
    "* Just tune the f*cking probabilities.\n",
    "\n",
    "See which combination works best!"
   ]
  },
  {
   "cell_type": "markdown",
   "metadata": {},
   "source": [
    "# Part III (4 points +)\n",
    "\n",
    "The frozenlake problem above is just too simple: you can beat it even with a random policy search. Go solve something more complicated.\n",
    "\n",
    "Pick __one of the two tasks__:\n",
    "\n",
    "* __FrozenLake8x8-v0__ - frozenlake big brother. Achieve score >0.7\n",
    "* __Taxi-v1__ - essentially a maze where you get score for moving passengers to their destinations. Achieve score >-100)\n",
    "\n",
    "Your homework assignment is beating that score (see tips below).\n",
    "\n",
    "\n",
    "### Some tips:\n",
    "* When solving those envs, please make sure your t_max is large enough to finish game with suboptimal policy. For example, __Taxi-v0 only trains if you let it play for 10k+ ticks/session__. For frozenlake8x8 it's less dire.\n",
    "* Random policy search is worth trying as a sanity check, but in general you should expect the genetic algorithm (or anything you devised in it's place) to fare much better that random.\n",
    "* While _it's okay to adapt the tabs above to your chosen env_, make sure you didn't hard-code any constants there (e.g. 16 states or 4 actions).\n",
    "* `print_policy` function was built for the frozenlake-v0 env so it will break on any other env. You could simply ignore it or rewrite it for your env.\n",
    "* in function `sample_reward`, __make sure t_max steps is enough to solve the environment__ even if agent is sometimes acting suboptimally. To estimate that, run several sessions without time limit and measure their length.\n",
    "\n",
    "### Bonus I (2 points):\n",
    "* Gym envs have a condition for \"beating the game\". E.g. here's the conditions for [Taxi-v1](https://gym.openai.com/envs/Taxi-v1). \n",
    "* If you managed to do that, it's worth uploading your first solution to gym. See `gym.upload(...)` docs. Allbeit it isn't a strong AI (or is it?), uploading your algorithm would be a good start. (and a +point!)\n",
    "* You'll get __+1 point__ for uploading and __+1 more if you beat the game__\n",
    "\n",
    "### Bonus II (4 points):\n",
    "* There are environments with continuous state spaces. In fact, most real world environments have this property. While we will dive into methods designed for that later, right now you already can solve them through binarization.\n",
    " * Gym has a basic infinite-state-space env called [CartPole](https://gym.openai.com/envs/CartPole-v0) - please start from this one. Solving something more challenging is great, but make sure your algorithm beats cartpole first. Also kudos for submitting.\n",
    " * Main idea: if you have something infinite and you want something discrete, you split it into bins. Like what histogram does.\n",
    " * Good choice of discretes is critical!\n",
    " * If the dimensionality is too high, you can try to reduce it (PCA/autoencoders)\n",
    "\n",
    "\n",
    "\n",
    "If you're running on a server/in binder, you may want to run this _at the very beginning of the notebook_ (before first cell imports gym):\n",
    "```\n",
    "#XVFB will be launched if you run on a server\n",
    "import os\n",
    "if type(os.environ.get(\"DISPLAY\")) is not str or len(os.environ.get(\"DISPLAY\"))==0:\n",
    "    !bash ../xvfb start\n",
    "    %env DISPLAY=:1\n",
    "```"
   ]
  },
  {
   "cell_type": "code",
   "execution_count": 160,
   "metadata": {},
   "outputs": [
    {
     "name": "stderr",
     "output_type": "stream",
     "text": [
      "[2018-01-10 20:38:18,228] Making new env: FrozenLake8x8-v0\n"
     ]
    },
    {
     "data": {
      "text/plain": [
       "0"
      ]
     },
     "execution_count": 160,
     "metadata": {},
     "output_type": "execute_result"
    }
   ],
   "source": [
    "env = gym.make('FrozenLake8x8-v0')\n",
    "env.reset()"
   ]
  },
  {
   "cell_type": "code",
   "execution_count": 161,
   "metadata": {},
   "outputs": [
    {
     "name": "stdout",
     "output_type": "stream",
     "text": [
      "\n",
      "\u001b[41mS\u001b[0mFFFFFFF\n",
      "FFFFFFFF\n",
      "FFFHFFFF\n",
      "FFFFFHFF\n",
      "FFFHFFFF\n",
      "FHHFFFHF\n",
      "FHFFHFHF\n",
      "FFFHFFFG\n"
     ]
    }
   ],
   "source": [
    "env.render()"
   ]
  },
  {
   "cell_type": "code",
   "execution_count": 163,
   "metadata": {},
   "outputs": [
    {
     "data": {
      "text/plain": [
       "(64, 4)"
      ]
     },
     "execution_count": 163,
     "metadata": {},
     "output_type": "execute_result"
    }
   ],
   "source": [
    "import numpy as np\n",
    "n_states = env.observation_space.n\n",
    "n_actions = env.action_space.n\n",
    "n_states, n_actions"
   ]
  },
  {
   "cell_type": "code",
   "execution_count": 170,
   "metadata": {
    "collapsed": true
   },
   "outputs": [],
   "source": [
    "def get_random_policy():\n",
    "    return np.random.randint(n_actions, size=n_states)"
   ]
  },
  {
   "cell_type": "code",
   "execution_count": 172,
   "metadata": {},
   "outputs": [
    {
     "name": "stdout",
     "output_type": "stream",
     "text": [
      "random policy:\n",
      "^ > ^ > v < v <\n",
      "> > ^ ^ > v < ^\n",
      "< < ^ H < v v >\n",
      "< v ^ v v H > v\n",
      "v < v H v v v ^\n",
      "v H H > > v H >\n",
      "> H < > H > H <\n",
      "v > > H < v ^ G\n"
     ]
    }
   ],
   "source": [
    "def print_policy(policy):\n",
    "    lake = \"SFFFFFFFFFFFFFFFFFFHFFFFFFFFFHFFFFFHFFFFFHHFFFHFFHFFHFHFFFFHFFFG\"\n",
    "    \n",
    "    # where to move from each tile (we're a bit unsure if this is accurate)\n",
    "    arrows = ['>^v<'[a] for a in policy]\n",
    "    \n",
    "    #draw arrows above S and F only\n",
    "    signs = [arrow if tile in \"SF\" else tile for arrow, tile in zip(arrows, lake)]\n",
    "    \n",
    "    for i in range(0, 64, 8):\n",
    "        print(' '.join(signs[i:i+8]))\n",
    "\n",
    "print(\"random policy:\")\n",
    "print_policy(get_random_policy())"
   ]
  },
  {
   "cell_type": "code",
   "execution_count": 173,
   "metadata": {
    "collapsed": true
   },
   "outputs": [],
   "source": [
    "n_epochs = 30\n",
    "pool_size = 100\n",
    "n_crossovers = 50\n",
    "n_mutations = 50"
   ]
  },
  {
   "cell_type": "code",
   "execution_count": 174,
   "metadata": {},
   "outputs": [],
   "source": [
    "pool = [get_random_policy() for _ in range(pool_size)]\n",
    "pool_scores = [evaluate(env, policy) for policy in pool]"
   ]
  },
  {
   "cell_type": "code",
   "execution_count": 175,
   "metadata": {
    "scrolled": true
   },
   "outputs": [
    {
     "name": "stdout",
     "output_type": "stream",
     "text": [
      "Epoch 0:\n",
      "best score: 0.05\n",
      "< < > ^ v ^ v >\n",
      "v > < ^ < v ^ >\n",
      "^ v v H < v v ^\n",
      "< < > ^ v H v >\n",
      "< > v H ^ v < >\n",
      "> H H v < ^ H v\n",
      "v H ^ ^ H ^ H v\n",
      "^ v > H > > v G\n",
      "Epoch 1:\n",
      "best score: 0.07\n",
      "v < v ^ < v ^ v\n",
      "^ > v < v ^ < >\n",
      "< < > H < < ^ ^\n",
      "v ^ ^ v v H v ^\n",
      "^ > < H v > < ^\n",
      "> H H v > ^ H ^\n",
      "v H ^ ^ H < H ^\n",
      "> v > H v v > G\n",
      "Epoch 2:\n",
      "best score: 0.04\n",
      "v < v ^ < v ^ v\n",
      "^ > v < v ^ < >\n",
      "< < > H < < ^ ^\n",
      "v ^ ^ v v H v ^\n",
      "^ > < H v > < ^\n",
      "> H H v > ^ H ^\n",
      "v H ^ ^ H < H ^\n",
      "> v > H v v > G\n",
      "Epoch 3:\n",
      "best score: 0.07\n",
      "v v v v < ^ > >\n",
      "< v v < v v > v\n",
      "< v > H < < < v\n",
      "< > > < ^ H < ^\n",
      "< ^ < H > < ^ v\n",
      "v H H < ^ < H >\n",
      "v H > < H v H v\n",
      "< v < H ^ < < G\n",
      "Epoch 4:\n",
      "best score: 0.1\n",
      "v v v v < ^ > >\n",
      "< v v < v v > v\n",
      "< v > H < < < v\n",
      "< > > < ^ H < ^\n",
      "< ^ < H > < ^ v\n",
      "v H H < ^ < H >\n",
      "v H > < H v H v\n",
      "< v < H ^ < < G\n",
      "Epoch 5:\n",
      "best score: 0.08\n",
      "^ v ^ ^ < v < >\n",
      "^ < < v ^ v ^ >\n",
      "< > > H v < < ^\n",
      "^ v > ^ ^ H < v\n",
      "v ^ < H ^ > v ^\n",
      "< H H v < > H ^\n",
      "^ H > > H < H ^\n",
      "v v > H ^ > ^ G\n",
      "Epoch 6:\n",
      "best score: 0.09\n",
      "^ v ^ v > v > >\n",
      "< < < < < ^ v v\n",
      "< v ^ H < ^ < ^\n",
      "< > > ^ > H > ^\n",
      "< ^ ^ H ^ > < v\n",
      "> H H < > v H >\n",
      "v H v ^ H < H v\n",
      "< < < H ^ > ^ G\n",
      "Epoch 7:\n",
      "best score: 0.09\n",
      "< ^ ^ v < > < >\n",
      "< < < < ^ v > >\n",
      "< > > H < < ^ ^\n",
      "v ^ v ^ > H > ^\n",
      "^ < < H ^ > v >\n",
      "> H H ^ > ^ H ^\n",
      "v H v > H v H ^\n",
      "> > < H ^ > > G\n",
      "Epoch 8:\n",
      "best score: 0.23\n",
      "< < v < < v v >\n",
      "v > < < ^ ^ v >\n",
      "v ^ > H v ^ v v\n",
      "^ < v < v H v ^\n",
      "< v > H v < < v\n",
      "v H H v v ^ H ^\n",
      "< H < ^ H < H v\n",
      "v < v H < > ^ G\n",
      "Epoch 9:\n",
      "best score: 0.19\n",
      "< < v < < v v >\n",
      "v > < < ^ ^ v >\n",
      "v ^ > H v ^ v v\n",
      "^ < v < v H v ^\n",
      "< v > H v < < v\n",
      "v H H v v ^ H ^\n",
      "< H < ^ H < H v\n",
      "v < v H < > ^ G\n",
      "Epoch 10:\n",
      "best score: 0.19\n",
      "< < v < < v v >\n",
      "v > < < < ^ v >\n",
      "v ^ > H ^ < v v\n",
      "^ v v ^ v H v ^\n",
      "< v > H v < v v\n",
      "< H H v v > H ^\n",
      "< H < ^ H < H v\n",
      "v < v H < > ^ G\n",
      "Epoch 11:\n",
      "best score: 0.21\n",
      "< < ^ < < v v v\n",
      "< > < < < ^ > v\n",
      "< > > H v ^ v v\n",
      "< ^ v > > H v ^\n",
      "< v v H ^ > v v\n",
      "^ H H < > v H v\n",
      "< H ^ > H < H v\n",
      "> < < H ^ ^ ^ G\n",
      "Epoch 12:\n",
      "best score: 0.24\n",
      "< < ^ < < v v v\n",
      "< > < < < ^ > v\n",
      "< > > H v ^ v v\n",
      "< ^ v > > H v ^\n",
      "< v v H ^ > v v\n",
      "^ H H < > v H v\n",
      "< H ^ > H < H v\n",
      "> < < H ^ ^ ^ G\n",
      "Epoch 13:\n",
      "best score: 0.25\n",
      "< < ^ < < v v v\n",
      "< > < < < ^ > v\n",
      "< > > H v ^ v v\n",
      "< ^ v > > H v ^\n",
      "< v v H ^ > v v\n",
      "^ H H < > v H v\n",
      "< H ^ > H < H v\n",
      "> < < H ^ ^ ^ G\n",
      "Epoch 14:\n",
      "best score: 0.26\n",
      "< < ^ < < v v v\n",
      "< > < < < ^ > v\n",
      "< > > H v ^ v v\n",
      "< ^ v > > H v ^\n",
      "< v v H ^ > v v\n",
      "^ H H < > v H v\n",
      "< H ^ > H < H v\n",
      "> < < H ^ ^ ^ G\n",
      "Epoch 15:\n",
      "best score: 0.28\n",
      "v < v ^ < ^ v v\n",
      "v v < < < v v >\n",
      "v v > H v < v ^\n",
      "^ v v ^ v H v >\n",
      "v > v H v ^ < v\n",
      "^ H H > < > H v\n",
      "< H < < H < H v\n",
      "v < v H < > ^ G\n",
      "Epoch 16:\n",
      "best score: 0.33\n",
      "v < v ^ < ^ v v\n",
      "v v < < < v v >\n",
      "v v > H v < v ^\n",
      "^ v v ^ v H v >\n",
      "v > v H v ^ < v\n",
      "^ H H > < > H v\n",
      "< H < < H < H v\n",
      "v < v H < > ^ G\n",
      "Epoch 17:\n",
      "best score: 0.41\n",
      "< < ^ v < < v v\n",
      "v < < < ^ > ^ v\n",
      "> ^ < H < < v v\n",
      "> > < ^ v H v v\n",
      "^ > ^ H > < v v\n",
      "< H H < v > H v\n",
      "< H ^ ^ H > H v\n",
      "< > v H < > v G\n",
      "Epoch 18:\n",
      "best score: 0.44\n",
      "< < v < v v v v\n",
      "v > < v < v ^ v\n",
      "< > > H < < v v\n",
      "^ v > v v H v v\n",
      "< > > H ^ < < v\n",
      "< H H < ^ > H v\n",
      "< H ^ ^ H < H v\n",
      "v ^ > H < > ^ G\n",
      "Epoch 19:\n",
      "best score: 0.4\n",
      "< < v < v v v v\n",
      "v > < < ^ v ^ v\n",
      "> < > H < < v v\n",
      "^ > v v v H v v\n",
      "< > v H v > < v\n",
      "< H H < ^ > H v\n",
      "< H ^ ^ H < H v\n",
      "v ^ > H > > v G\n",
      "Epoch 20:\n",
      "best score: 0.48\n",
      "< < v < v v v v\n",
      "v > < < ^ v ^ v\n",
      "> < > H < < v v\n",
      "^ > v v v H v v\n",
      "< > v H v > < v\n",
      "< H H < ^ > H v\n",
      "< H ^ ^ H < H v\n",
      "v ^ > H > > v G\n",
      "Epoch 21:\n",
      "best score: 0.46\n",
      "< < < v < v v >\n",
      "v > < < < v ^ >\n",
      "< > > H < < v v\n",
      "v ^ v ^ v H v v\n",
      "> > v H > > v v\n",
      "^ H H v > > H v\n",
      "^ H < < H ^ H v\n",
      "> < < H < ^ < G\n",
      "Epoch 22:\n",
      "best score: 0.45\n",
      "< < ^ < v v v v\n",
      "v < < < < v ^ v\n",
      "< > > H < > v v\n",
      "^ > > v v H v v\n",
      "< > > H v < < v\n",
      "< H H < ^ > H v\n",
      "< H ^ < H > H v\n",
      "v ^ > H < > ^ G\n",
      "Epoch 23:\n",
      "best score: 0.48\n",
      "< < < v < v v >\n",
      "v > < < < v ^ >\n",
      "< > > H < < v v\n",
      "v ^ v ^ v H v v\n",
      "> > v H > > v v\n",
      "^ H H v > > H v\n",
      "^ H < < H ^ H v\n",
      "> < < H < ^ < G\n",
      "Epoch 24:\n",
      "best score: 0.52\n",
      "< < v < v v v v\n",
      "v > < v < v ^ v\n",
      "< > > H < < v v\n",
      "^ v > v v H v v\n",
      "< > > H ^ < < v\n",
      "< H H < ^ > H v\n",
      "< H ^ ^ H < H v\n",
      "v ^ > H < > ^ G\n",
      "Epoch 25:\n",
      "best score: 0.58\n",
      "< < ^ < v v v v\n",
      "< v < < < v v >\n",
      "v > > H < < v ^\n",
      "> v > > v H v v\n",
      "< v v H v < < v\n",
      "< H H < > > H v\n",
      "< H ^ < H < H v\n",
      "v < v H < v < G\n",
      "Epoch 26:\n",
      "best score: 0.53\n",
      "< < < < v v v v\n",
      "< > < < < ^ v v\n",
      "< ^ > H v < v v\n",
      "^ > v > v H v v\n",
      "< > v H ^ < < v\n",
      "< H H < < > H v\n",
      "< H ^ ^ H < H v\n",
      "> < > H < ^ ^ G\n",
      "Epoch 27:\n",
      "best score: 0.52\n",
      "< < ^ v v < v v\n",
      "v > < < < < v v\n",
      "v > < H v < v ^\n",
      "^ v v ^ v H v v\n",
      "> > > H > < v v\n",
      "^ H H < < > H v\n",
      "< H ^ > H ^ H v\n",
      "< < < H < ^ ^ G\n",
      "Epoch 28:\n",
      "best score: 0.56\n",
      "< < ^ < v v v v\n",
      "< > < < < v v >\n",
      "v > > H < < v ^\n",
      "v v v > v H v v\n",
      "< v v H v < < v\n",
      "^ H H v > > H v\n",
      "^ H ^ < H ^ H v\n",
      "v < v H < ^ < G\n",
      "Epoch 29:\n",
      "best score: 0.54\n",
      "< < < v v v v v\n",
      "v v < < < v v >\n",
      "< > > H ^ < v v\n",
      "^ ^ v v v H v v\n",
      "< > > H v > < v\n",
      "< H H > ^ > H v\n",
      "^ H ^ ^ H < H v\n",
      "> ^ < H < > < G\n"
     ]
    }
   ],
   "source": [
    "#main loop\n",
    "epoch_scores = []\n",
    "\n",
    "for epoch in range(n_epochs):\n",
    "    print(\"Epoch %s:\"%epoch)\n",
    "    \n",
    "    # <crossover random guys from pool, n_crossovers total>\n",
    "    crossovered = [crossover(pool[np.random.randint(len(pool))], pool[np.random.randint(len(pool))], p=0.3) for _ in range(n_crossovers)]\n",
    "    # <add several new policies at random, n_mutations total>\n",
    "    mutated = [mutation(crossed, p=0.3) for crossed in crossovered]\n",
    "    \n",
    "    assert type(crossovered) == type(mutated) == list\n",
    "    \n",
    "    #add new policies to the pool\n",
    "    # <add up old population with crossovers/mutations>\n",
    "    pool = pool + crossovered + mutated\n",
    "    # <evaluate all policies again>\n",
    "    pool_scores = [evaluate(env, policy) for policy in pool]\n",
    "    \n",
    "    #select pool_size best policies\n",
    "    selected_indices = np.argsort(pool_scores)[-pool_size:]\n",
    "    pool = [pool[i] for i in selected_indices]\n",
    "    pool_scores = [pool_scores[i] for i in selected_indices]\n",
    "\n",
    "    #print the best policy so far (last in ascending score order)\n",
    "    print(\"best score:\", pool_scores[-1])\n",
    "    epoch_scores.append(pool_scores[-1])\n",
    "    print_policy(pool[-1])"
   ]
  },
  {
   "cell_type": "code",
   "execution_count": 176,
   "metadata": {},
   "outputs": [
    {
     "data": {
      "image/png": "[encoded data removed]",
      "text/plain": [
       "<matplotlib.figure.Figure at 0x7f24bb0357f0>"
      ]
     },
     "metadata": {},
     "output_type": "display_data"
    }
   ],
   "source": [
    "import matplotlib.pyplot as plt\n",
    "%matplotlib inline\n",
    "\n",
    "plt.plot(epoch_scores, color='k')\n",
    "plt.ylabel('Best score')\n",
    "plt.xlabel('Epochs')\n",
    "plt.show()"
   ]
  },
  {
   "cell_type": "code",
   "execution_count": null,
   "metadata": {
    "collapsed": true
   },
   "outputs": [],
   "source": []
  }
 ],
 "metadata": {
  "kernelspec": {
   "display_name": "Python 3",
   "language": "python",
   "name": "python3"
  },
  "language_info": {
   "codemirror_mode": {
    "name": "ipython",
    "version": 3
   },
   "file_extension": ".py",
   "mimetype": "text/x-python",
   "name": "python",
   "nbconvert_exporter": "python",
   "pygments_lexer": "ipython3",
   "version": "3.5.3"
  },
  "varInspector": {
   "cols": {
    "lenName": 16,
    "lenType": 16,
    "lenVar": 40
   },
   "kernels_config": {
    "python": {
     "delete_cmd_postfix": "",
     "delete_cmd_prefix": "del ",
     "library": "var_list.py",
     "varRefreshCmd": "print(var_dic_list())"
    },
    "r": {
     "delete_cmd_postfix": ") ",
     "delete_cmd_prefix": "rm(",
     "library": "var_list.r",
     "varRefreshCmd": "cat(var_dic_list()) "
    }
   },
   "types_to_exclude": [
    "module",
    "function",
    "builtin_function_or_method",
    "instance",
    "_Feature"
   ],
   "window_display": false
  }
 },
 "nbformat": 4,
 "nbformat_minor": 1
}
